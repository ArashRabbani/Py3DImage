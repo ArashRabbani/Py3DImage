{
  "cells": [
    {
      "cell_type": "markdown",
      "id": "1ba6e65d",
      "metadata": {
        "editable": true,
        "tags": [],
        "id": "1ba6e65d"
      },
      "source": [
        "# Scientific 3D Image Analysis in Python\n",
        "## Part 2: Image Processing Pipeline: Clean, Filter, Threshold\n",
        "![Slide2.PNG](attachment:635f34e0-96fc-4373-912f-f19593435018.PNG)\n",
        "This notebook demonstrates essential image processing operations for 3D micro-CT data, using a Mt. Simon Sandstone sample as our example. The sample has a spatial resolution of 5.22 μm per voxel.\n",
        "\n",
        "### What we'll cover:\n",
        "- Noise reduction using various filtering methods:\n",
        "  - Gaussian and median filtering\n",
        "  - Advanced filters (uniform, maximum, minimum, percentile)\n",
        "- Image enhancement and intensity adjustments\n",
        "- Automated thresholding techniques:\n",
        "  - Otsu's method\n",
        "  - Adaptive thresholding\n",
        "  - Yen's method\n",
        "- Binary operations for image cleaning\n",
        "- 3D visualization\n",
        "\n",
        "\n",
        "Data source: https://www.digitalrocksportal.org/projects/324"
      ]
    },
    {
      "cell_type": "markdown",
      "id": "3b855629",
      "metadata": {
        "id": "3b855629"
      },
      "source": [
        "## Import Required Libraries"
      ]
    },
    {
      "cell_type": "code",
      "execution_count": 1,
      "id": "a6436f16",
      "metadata": {
        "lines_to_next_cell": 1,
        "id": "a6436f16"
      },
      "outputs": [],
      "source": [
        "import numpy as np\n",
        "import tifffile\n",
        "import matplotlib.pyplot as plt\n",
        "from scipy import ndimage\n",
        "from skimage import filters, morphology, restoration, exposure\n",
        "from mpl_toolkits.axes_grid1 import make_axes_locatable\n",
        "import time"
      ]
    },
    {
      "cell_type": "markdown",
      "id": "bf016f3b",
      "metadata": {
        "id": "bf016f3b"
      },
      "source": [
        "## Load and Prepare the Image\n",
        "We'll load our TIFF stack and create visualization functions"
      ]
    },
    {
      "cell_type": "code",
      "execution_count": 2,
      "id": "21e5d314",
      "metadata": {
        "colab": {
          "base_uri": "https://localhost:8080/",
          "height": 365
        },
        "id": "21e5d314",
        "outputId": "270c9909-efe1-4af2-df4f-b8754e830818"
      },
      "outputs": [
        {
          "output_type": "error",
          "ename": "FileNotFoundError",
          "evalue": "[Errno 2] No such file or directory: '/content/200-500-8bits.tif'",
          "traceback": [
            "\u001b[0;31m---------------------------------------------------------------------------\u001b[0m",
            "\u001b[0;31mFileNotFoundError\u001b[0m                         Traceback (most recent call last)",
            "\u001b[0;32m<ipython-input-2-4fed7c70a874>\u001b[0m in \u001b[0;36m<cell line: 0>\u001b[0;34m()\u001b[0m\n\u001b[1;32m     33\u001b[0m \u001b[0;31m# Load the image\u001b[0m\u001b[0;34m\u001b[0m\u001b[0;34m\u001b[0m\u001b[0m\n\u001b[1;32m     34\u001b[0m \u001b[0mimage_path\u001b[0m \u001b[0;34m=\u001b[0m \u001b[0;34m'200-500-8bits.tif'\u001b[0m\u001b[0;34m\u001b[0m\u001b[0;34m\u001b[0m\u001b[0m\n\u001b[0;32m---> 35\u001b[0;31m \u001b[0mimage_3d\u001b[0m \u001b[0;34m=\u001b[0m \u001b[0mtifffile\u001b[0m\u001b[0;34m.\u001b[0m\u001b[0mimread\u001b[0m\u001b[0;34m(\u001b[0m\u001b[0mimage_path\u001b[0m\u001b[0;34m)\u001b[0m\u001b[0;34m\u001b[0m\u001b[0;34m\u001b[0m\u001b[0m\n\u001b[0m\u001b[1;32m     36\u001b[0m \u001b[0;34m\u001b[0m\u001b[0m\n\u001b[1;32m     37\u001b[0m \u001b[0;31m# Cropping the image\u001b[0m\u001b[0;34m\u001b[0m\u001b[0;34m\u001b[0m\u001b[0m\n",
            "\u001b[0;32m/usr/local/lib/python3.11/dist-packages/tifffile/tifffile.py\u001b[0m in \u001b[0;36mimread\u001b[0;34m(files, selection, aszarr, key, series, level, squeeze, maxworkers, buffersize, mode, name, offset, size, pattern, axesorder, categories, imread, imreadargs, sort, container, chunkshape, chunkdtype, axestiled, ioworkers, chunkmode, fillvalue, zattrs, multiscales, omexml, out, out_inplace, _multifile, _useframes, **kwargs)\u001b[0m\n\u001b[1;32m   1230\u001b[0m \u001b[0;34m\u001b[0m\u001b[0m\n\u001b[1;32m   1231\u001b[0m         \u001b[0;32mif\u001b[0m \u001b[0misinstance\u001b[0m\u001b[0;34m(\u001b[0m\u001b[0mfiles\u001b[0m\u001b[0;34m,\u001b[0m \u001b[0mstr\u001b[0m\u001b[0;34m)\u001b[0m \u001b[0;32mor\u001b[0m \u001b[0;32mnot\u001b[0m \u001b[0misinstance\u001b[0m\u001b[0;34m(\u001b[0m\u001b[0mfiles\u001b[0m\u001b[0;34m,\u001b[0m \u001b[0mSequence\u001b[0m\u001b[0;34m)\u001b[0m\u001b[0;34m:\u001b[0m\u001b[0;34m\u001b[0m\u001b[0;34m\u001b[0m\u001b[0m\n\u001b[0;32m-> 1232\u001b[0;31m             with TiffFile(\n\u001b[0m\u001b[1;32m   1233\u001b[0m                 \u001b[0mfiles\u001b[0m\u001b[0;34m,\u001b[0m\u001b[0;34m\u001b[0m\u001b[0;34m\u001b[0m\u001b[0m\n\u001b[1;32m   1234\u001b[0m                 \u001b[0mmode\u001b[0m\u001b[0;34m=\u001b[0m\u001b[0mmode\u001b[0m\u001b[0;34m,\u001b[0m\u001b[0;34m\u001b[0m\u001b[0;34m\u001b[0m\u001b[0m\n",
            "\u001b[0;32m/usr/local/lib/python3.11/dist-packages/tifffile/tifffile.py\u001b[0m in \u001b[0;36m__init__\u001b[0;34m(self, file, mode, name, offset, size, omexml, _multifile, _useframes, _parent, **is_flags)\u001b[0m\n\u001b[1;32m   4258\u001b[0m             \u001b[0mself\u001b[0m\u001b[0;34m.\u001b[0m\u001b[0mis_ome\u001b[0m \u001b[0;34m=\u001b[0m \u001b[0;32mTrue\u001b[0m\u001b[0;34m\u001b[0m\u001b[0;34m\u001b[0m\u001b[0m\n\u001b[1;32m   4259\u001b[0m \u001b[0;34m\u001b[0m\u001b[0m\n\u001b[0;32m-> 4260\u001b[0;31m         \u001b[0mfh\u001b[0m \u001b[0;34m=\u001b[0m \u001b[0mFileHandle\u001b[0m\u001b[0;34m(\u001b[0m\u001b[0mfile\u001b[0m\u001b[0;34m,\u001b[0m \u001b[0mmode\u001b[0m\u001b[0;34m=\u001b[0m\u001b[0mmode\u001b[0m\u001b[0;34m,\u001b[0m \u001b[0mname\u001b[0m\u001b[0;34m=\u001b[0m\u001b[0mname\u001b[0m\u001b[0;34m,\u001b[0m \u001b[0moffset\u001b[0m\u001b[0;34m=\u001b[0m\u001b[0moffset\u001b[0m\u001b[0;34m,\u001b[0m \u001b[0msize\u001b[0m\u001b[0;34m=\u001b[0m\u001b[0msize\u001b[0m\u001b[0;34m)\u001b[0m\u001b[0;34m\u001b[0m\u001b[0;34m\u001b[0m\u001b[0m\n\u001b[0m\u001b[1;32m   4261\u001b[0m         \u001b[0mself\u001b[0m\u001b[0;34m.\u001b[0m\u001b[0m_fh\u001b[0m \u001b[0;34m=\u001b[0m \u001b[0mfh\u001b[0m\u001b[0;34m\u001b[0m\u001b[0;34m\u001b[0m\u001b[0m\n\u001b[1;32m   4262\u001b[0m         \u001b[0mself\u001b[0m\u001b[0;34m.\u001b[0m\u001b[0m_multifile\u001b[0m \u001b[0;34m=\u001b[0m \u001b[0;32mTrue\u001b[0m \u001b[0;32mif\u001b[0m \u001b[0m_multifile\u001b[0m \u001b[0;32mis\u001b[0m \u001b[0;32mNone\u001b[0m \u001b[0;32melse\u001b[0m \u001b[0mbool\u001b[0m\u001b[0;34m(\u001b[0m\u001b[0m_multifile\u001b[0m\u001b[0;34m)\u001b[0m\u001b[0;34m\u001b[0m\u001b[0;34m\u001b[0m\u001b[0m\n",
            "\u001b[0;32m/usr/local/lib/python3.11/dist-packages/tifffile/tifffile.py\u001b[0m in \u001b[0;36m__init__\u001b[0;34m(self, file, mode, name, offset, size)\u001b[0m\n\u001b[1;32m  14636\u001b[0m         \u001b[0mself\u001b[0m\u001b[0;34m.\u001b[0m\u001b[0m_close\u001b[0m \u001b[0;34m=\u001b[0m \u001b[0;32mTrue\u001b[0m\u001b[0;34m\u001b[0m\u001b[0;34m\u001b[0m\u001b[0m\n\u001b[1;32m  14637\u001b[0m         \u001b[0mself\u001b[0m\u001b[0;34m.\u001b[0m\u001b[0m_lock\u001b[0m \u001b[0;34m=\u001b[0m \u001b[0mNullContext\u001b[0m\u001b[0;34m(\u001b[0m\u001b[0;34m)\u001b[0m\u001b[0;34m\u001b[0m\u001b[0;34m\u001b[0m\u001b[0m\n\u001b[0;32m> 14638\u001b[0;31m         \u001b[0mself\u001b[0m\u001b[0;34m.\u001b[0m\u001b[0mopen\u001b[0m\u001b[0;34m(\u001b[0m\u001b[0;34m)\u001b[0m\u001b[0;34m\u001b[0m\u001b[0;34m\u001b[0m\u001b[0m\n\u001b[0m\u001b[1;32m  14639\u001b[0m         \u001b[0;32massert\u001b[0m \u001b[0mself\u001b[0m\u001b[0;34m.\u001b[0m\u001b[0m_fh\u001b[0m \u001b[0;32mis\u001b[0m \u001b[0;32mnot\u001b[0m \u001b[0;32mNone\u001b[0m\u001b[0;34m\u001b[0m\u001b[0;34m\u001b[0m\u001b[0m\n\u001b[1;32m  14640\u001b[0m \u001b[0;34m\u001b[0m\u001b[0m\n",
            "\u001b[0;32m/usr/local/lib/python3.11/dist-packages/tifffile/tifffile.py\u001b[0m in \u001b[0;36mopen\u001b[0;34m(self)\u001b[0m\n\u001b[1;32m  14655\u001b[0m             \u001b[0mself\u001b[0m\u001b[0;34m.\u001b[0m\u001b[0m_file\u001b[0m \u001b[0;34m=\u001b[0m \u001b[0mos\u001b[0m\u001b[0;34m.\u001b[0m\u001b[0mpath\u001b[0m\u001b[0;34m.\u001b[0m\u001b[0mrealpath\u001b[0m\u001b[0;34m(\u001b[0m\u001b[0mself\u001b[0m\u001b[0;34m.\u001b[0m\u001b[0m_file\u001b[0m\u001b[0;34m)\u001b[0m\u001b[0;34m\u001b[0m\u001b[0;34m\u001b[0m\u001b[0m\n\u001b[1;32m  14656\u001b[0m             \u001b[0mself\u001b[0m\u001b[0;34m.\u001b[0m\u001b[0m_dir\u001b[0m\u001b[0;34m,\u001b[0m \u001b[0mself\u001b[0m\u001b[0;34m.\u001b[0m\u001b[0m_name\u001b[0m \u001b[0;34m=\u001b[0m \u001b[0mos\u001b[0m\u001b[0;34m.\u001b[0m\u001b[0mpath\u001b[0m\u001b[0;34m.\u001b[0m\u001b[0msplit\u001b[0m\u001b[0;34m(\u001b[0m\u001b[0mself\u001b[0m\u001b[0;34m.\u001b[0m\u001b[0m_file\u001b[0m\u001b[0;34m)\u001b[0m\u001b[0;34m\u001b[0m\u001b[0;34m\u001b[0m\u001b[0m\n\u001b[0;32m> 14657\u001b[0;31m             \u001b[0mself\u001b[0m\u001b[0;34m.\u001b[0m\u001b[0m_fh\u001b[0m \u001b[0;34m=\u001b[0m \u001b[0mopen\u001b[0m\u001b[0;34m(\u001b[0m\u001b[0mself\u001b[0m\u001b[0;34m.\u001b[0m\u001b[0m_file\u001b[0m\u001b[0;34m,\u001b[0m \u001b[0mself\u001b[0m\u001b[0;34m.\u001b[0m\u001b[0m_mode\u001b[0m\u001b[0;34m,\u001b[0m \u001b[0mencoding\u001b[0m\u001b[0;34m=\u001b[0m\u001b[0;32mNone\u001b[0m\u001b[0;34m)\u001b[0m\u001b[0;34m\u001b[0m\u001b[0;34m\u001b[0m\u001b[0m\n\u001b[0m\u001b[1;32m  14658\u001b[0m             \u001b[0mself\u001b[0m\u001b[0;34m.\u001b[0m\u001b[0m_close\u001b[0m \u001b[0;34m=\u001b[0m \u001b[0;32mTrue\u001b[0m\u001b[0;34m\u001b[0m\u001b[0;34m\u001b[0m\u001b[0m\n\u001b[1;32m  14659\u001b[0m             \u001b[0mself\u001b[0m\u001b[0;34m.\u001b[0m\u001b[0m_offset\u001b[0m \u001b[0;34m=\u001b[0m \u001b[0mmax\u001b[0m\u001b[0;34m(\u001b[0m\u001b[0;36m0\u001b[0m\u001b[0;34m,\u001b[0m \u001b[0mself\u001b[0m\u001b[0;34m.\u001b[0m\u001b[0m_offset\u001b[0m\u001b[0;34m)\u001b[0m\u001b[0;34m\u001b[0m\u001b[0;34m\u001b[0m\u001b[0m\n",
            "\u001b[0;31mFileNotFoundError\u001b[0m: [Errno 2] No such file or directory: '/content/200-500-8bits.tif'"
          ]
        }
      ],
      "source": [
        "def plot_2d_slices(volume, title=\"2D Slices Visualization\"):\n",
        "    z_slice = volume.shape[0] // 2\n",
        "    y_slice = volume.shape[1] // 2\n",
        "    x_slice = volume.shape[2] // 2\n",
        "\n",
        "    fig, (ax1, ax2, ax3) = plt.subplots(1, 3, figsize=(10, 3))\n",
        "\n",
        "    # XY plane (top view)\n",
        "    im1 = ax1.imshow(volume[z_slice, :, :], cmap='gray')\n",
        "    ax1.set_title(f'XY Plane (z={z_slice})')\n",
        "    divider = make_axes_locatable(ax1)\n",
        "    cax = divider.append_axes(\"right\", size=\"5%\", pad=0.05)\n",
        "    plt.colorbar(im1, cax=cax)\n",
        "\n",
        "    # XZ plane\n",
        "    im2 = ax2.imshow(volume[:, y_slice, :], cmap='gray')\n",
        "    ax2.set_title(f'XZ Plane (y={y_slice})')\n",
        "    divider = make_axes_locatable(ax2)\n",
        "    cax = divider.append_axes(\"right\", size=\"5%\", pad=0.05)\n",
        "    plt.colorbar(im2, cax=cax)\n",
        "\n",
        "    # YZ plane\n",
        "    im3 = ax3.imshow(volume[:, :, x_slice], cmap='gray')\n",
        "    ax3.set_title(f'YZ Plane (x={x_slice})')\n",
        "    divider = make_axes_locatable(ax3)\n",
        "    cax = divider.append_axes(\"right\", size=\"5%\", pad=0.05)\n",
        "    plt.colorbar(im3, cax=cax)\n",
        "\n",
        "    plt.suptitle(title)\n",
        "    plt.tight_layout()\n",
        "    return fig\n",
        "\n",
        "# Load the image\n",
        "image_path = '200-500-8bits.tif'\n",
        "image_3d = tifffile.imread(image_path)\n",
        "\n",
        "# Cropping the image\n",
        "image_3d=image_3d[:200,:200,:200]\n",
        "# Display original image\n",
        "plot_2d_slices(image_3d, \"Original Volume\")\n",
        "plt.show()"
      ]
    },
    {
      "cell_type": "markdown",
      "id": "67d0e8cb",
      "metadata": {
        "id": "67d0e8cb"
      },
      "source": [
        "## Advanced Noise Reduction Techniques\n",
        "We'll apply various filtering methods to reduce noise while preserving important features.\n",
        "Each method has its strengths and is suitable for different types of noise and image features."
      ]
    },
    {
      "cell_type": "markdown",
      "id": "02b03db0",
      "metadata": {
        "id": "02b03db0"
      },
      "source": [
        "### 1. Basic Filtering Methods\n",
        "\n",
        "**Gaussian Filter**\n",
        "- Applies weighted average based on Gaussian distribution\n",
        "- Use for: Smooth noise reduction while preserving edges better than uniform filter\n",
        "\n",
        "**Median Filter**\n",
        "- Replaces each voxel with median value of neighborhood\n",
        "- Use for: Removing salt-and-pepper noise while preserving edges"
      ]
    },
    {
      "cell_type": "code",
      "execution_count": null,
      "id": "afd5da37",
      "metadata": {
        "id": "afd5da37"
      },
      "outputs": [],
      "source": [
        "# Gaussian filtering\n",
        "sigma = 1.0  # Standard deviation for Gaussian kernel\n",
        "gaussian_filtered = ndimage.gaussian_filter(image_3d, sigma=sigma)\n",
        "\n",
        "# Median filtering\n",
        "size = 3  # Kernel size for median filter\n",
        "median_filtered = ndimage.median_filter(image_3d, size=size)\n",
        "\n",
        "# Display results\n",
        "plot_2d_slices(gaussian_filtered, \"Gaussian Filtered Volume\")\n",
        "plt.show()\n",
        "\n",
        "plot_2d_slices(median_filtered, \"Median Filtered Volume\")\n",
        "plt.show()"
      ]
    },
    {
      "cell_type": "markdown",
      "id": "de947794",
      "metadata": {
        "id": "de947794"
      },
      "source": [
        "### 2. Advanced Filtering Methods\n",
        "\n",
        "**Uniform/Mean Filter**\n",
        "- Replaces each voxel with the average of its neighborhood\n",
        "- Use for: General noise reduction and smoothing, good for Gaussian noise\n",
        "\n",
        "**Maximum Filter**\n",
        "- Replaces each voxel with the maximum value in its neighborhood\n",
        "- Use for: Enhancing bright features, removing dark noise, dilation operations\n",
        "\n",
        "**Minimum Filter**\n",
        "- Replaces each voxel with the minimum value in its neighborhood  \n",
        "- Use for: Enhancing dark features, removing bright noise, erosion operations\n",
        "\n",
        "**Percentile Filter (75th)**\n",
        "- Replaces each voxel with the 75th percentile value of its neighborhood\n",
        "- Use for: Noise reduction while preserving bright structures better than median\n",
        "\n",
        "**Rank Filter**\n",
        "- Replaces each voxel with the kth smallest value in its neighborhood\n",
        "- Use for: Customizable noise reduction, compromise between min/max filters"
      ]
    },
    {
      "cell_type": "code",
      "execution_count": null,
      "id": "c502aabf",
      "metadata": {
        "lines_to_next_cell": 1,
        "id": "c502aabf"
      },
      "outputs": [],
      "source": [
        "# Uniform/Mean filter\n",
        "uniform_filtered = ndimage.uniform_filter(image_3d, size=3)\n",
        "plot_2d_slices(uniform_filtered, \"Uniform/Mean Filtered Volume\")\n",
        "plt.show()\n",
        "\n",
        "# Maximum filter\n",
        "max_filtered = ndimage.maximum_filter(image_3d, size=3)\n",
        "plot_2d_slices(max_filtered, \"Maximum Filtered Volume\")\n",
        "plt.show()\n",
        "\n",
        "# Minimum filter\n",
        "min_filtered = ndimage.minimum_filter(image_3d, size=3)\n",
        "plot_2d_slices(min_filtered, \"Minimum Filtered Volume\")\n",
        "plt.show()\n",
        "\n",
        "# Percentile filter (75th percentile)\n",
        "p75_filtered = ndimage.percentile_filter(image_3d, percentile=75, size=3)\n",
        "plot_2d_slices(p75_filtered, \"75th Percentile Filtered Volume\")\n",
        "plt.show()\n",
        "\n",
        "# Rank filter\n",
        "rank_filtered = ndimage.rank_filter(image_3d, rank=5, size=3)\n",
        "plot_2d_slices(rank_filtered, \"Rank Filtered Volume\")\n",
        "plt.show()\n"
      ]
    },
    {
      "cell_type": "markdown",
      "id": "e784ce65",
      "metadata": {
        "id": "e784ce65"
      },
      "source": [
        "### 3. Filter Comparison and Analysis\n",
        "\n",
        "This code computes quantitative metrics to evaluate different filtering methods:\n",
        "- **MSE (Mean Squared Error)**: Measures how much the filtered image differs from the original. Lower values indicate the filter preserves original image features better.\n",
        "- **SNR (Signal-to-Noise Ratio)**: Measured in decibels (dB), higher values indicate better noise reduction while preserving the important image signal.\n",
        "\n",
        "Together, these metrics help assess the trade-off between noise reduction and feature preservation for each filter."
      ]
    },
    {
      "cell_type": "code",
      "execution_count": null,
      "id": "f5b67c54",
      "metadata": {
        "id": "f5b67c54"
      },
      "outputs": [],
      "source": [
        "# Calculate metrics for each filter\n",
        "def calculate_metrics(original, filtered):\n",
        "    mse = np.mean((original - filtered) ** 2)\n",
        "    snr = 10 * np.log10(np.var(original) / mse) if mse > 0 else float('inf')\n",
        "    return mse, snr\n",
        "\n",
        "# Dictionary of all filters\n",
        "filters_dict = {\n",
        "    'Gaussian': gaussian_filtered,\n",
        "    'Median': median_filtered,\n",
        "    'Uniform': uniform_filtered,\n",
        "    'Maximum': max_filtered,\n",
        "    'Minimum': min_filtered,\n",
        "    'Percentile-75': p75_filtered,\n",
        "    'Rank': rank_filtered\n",
        "}\n",
        "\n",
        "# Print metrics table\n",
        "print(\"Filter Performance Metrics:\")\n",
        "print(\"-\" * 50)\n",
        "print(f\"{'Filter Name':<25} {'MSE':>10} {'SNR (dB)':>10}\")\n",
        "print(\"-\" * 50)\n",
        "for name, filtered_img in filters_dict.items():\n",
        "    mse, snr = calculate_metrics(image_3d, filtered_img)\n",
        "    print(f\"{name:<25} {mse:>10.2f} {snr:>10.2f}\")"
      ]
    },
    {
      "cell_type": "markdown",
      "id": "5203aec2",
      "metadata": {
        "editable": true,
        "tags": [],
        "id": "5203aec2"
      },
      "source": [
        "## Intensity adjustments\n",
        "For an input image 'I' with intensity values in [0,255], we can adjust both brightness and contrast to effectively use the complete space of the image.\n",
        "For brightness adjustment:\n",
        "$$I_{bright} = b \\times I$$\n",
        "where b > 1 increases brightness, b < 1 decreases brightness\n",
        "Contrast adjustment:\n",
        "$$I_{contrast} = (I - 127.5) \\times c + 127.5$$\n",
        "where c > 1 increases contrast, c < 1 decreases contrast\n",
        "The 127.5 offset centers the scaling around the middle of the intensity range for 8-bit images. Both formulas require final clipping to maintain valid 8-bit range."
      ]
    },
    {
      "cell_type": "code",
      "execution_count": null,
      "id": "d2e7342d",
      "metadata": {
        "id": "d2e7342d"
      },
      "outputs": [],
      "source": [
        "import numpy as np\n",
        "import tifffile\n",
        "from skimage import img_as_float, img_as_ubyte\n",
        "import matplotlib.pyplot as plt\n",
        "\n",
        "def create_enhancement_grid(image_3d):\n",
        "    # Select a representative slice\n",
        "    slice_idx = image_3d.shape[0] // 2\n",
        "    slice_2d = image_3d[slice_idx]\n",
        "\n",
        "    # Convert to float for processing\n",
        "    img_float = img_as_float(slice_2d)\n",
        "\n",
        "    # Define brightness and contrast factors\n",
        "    brightness_factors = [0.7, 1.0, 1.3]  # darker, original, brighter\n",
        "    contrast_factors = [0.7, 1.0, 1.3]    # lower, original, higher\n",
        "\n",
        "    # Create figure\n",
        "    fig, axes = plt.subplots(3, 3, figsize=(12, 12))\n",
        "\n",
        "    # Create all combinations\n",
        "    for i, contrast in enumerate(contrast_factors):\n",
        "        for j, brightness in enumerate(brightness_factors):\n",
        "            # Apply contrast first, then brightness\n",
        "            enhanced = img_float * contrast  # contrast\n",
        "            enhanced = enhanced - enhanced.mean() + 0.5  # center around 0.5\n",
        "            enhanced = enhanced * brightness  # brightness\n",
        "            enhanced = np.clip(enhanced, 0, 1)  # ensure valid range\n",
        "            enhanced = img_as_ubyte(enhanced)  # convert back to uint8\n",
        "\n",
        "            # Plot with fixed vmin and vmax\n",
        "            im = axes[i, j].imshow(enhanced, cmap='gray', vmin=0, vmax=255)\n",
        "            cbar = plt.colorbar(im, ax=axes[i, j])\n",
        "            cbar.set_label('Intensity')\n",
        "\n",
        "            # Add title\n",
        "            if i == 1 and j == 1:\n",
        "                axes[i, j].set_title('Original\\n(B:1.0x, C:1.0x)',\n",
        "                                   color='red',\n",
        "                                   pad=10,\n",
        "                                   fontsize=10)\n",
        "            else:\n",
        "                axes[i, j].set_title(f'B:{brightness:.1f}x, C:{contrast:.1f}x',\n",
        "                                   pad=10,\n",
        "                                   fontsize=10)\n",
        "\n",
        "            # Remove ticks for cleaner look\n",
        "            axes[i, j].set_xticks([])\n",
        "            axes[i, j].set_yticks([])\n",
        "\n",
        "            # Add pixel value range information\n",
        "            axes[i, j].text(0.02, 0.98,\n",
        "                          f'Range: [{enhanced.min()}-{enhanced.max()}]',\n",
        "                          transform=axes[i, j].transAxes,\n",
        "                          color='white',\n",
        "                          bbox=dict(facecolor='black', alpha=0.7),\n",
        "                          verticalalignment='top',\n",
        "                          fontsize=8)\n",
        "\n",
        "    # Add overall title\n",
        "    plt.suptitle('Image Enhancement Grid\\nFixed Colormap Range: [0-255]',\n",
        "                y=1.02,\n",
        "                fontsize=12)\n",
        "\n",
        "    # Adjust layout\n",
        "    plt.subplots_adjust(hspace=0.3, wspace=0.3)\n",
        "\n",
        "    return fig\n",
        "\n",
        "# Load and process the image\n",
        "image_path = '200-500-8bits.tif'\n",
        "image_3d = tifffile.imread(image_path)\n",
        "\n",
        "# Create and display the enhancement grid\n",
        "fig = create_enhancement_grid(image_3d)\n",
        "plt.show()"
      ]
    },
    {
      "cell_type": "markdown",
      "id": "32aae1a7",
      "metadata": {
        "id": "32aae1a7"
      },
      "source": [
        "## Image Thresholding Techniques\n",
        "Three different thresholding approaches are implemented for image segmentation:\n",
        "\n",
        "- **Otsu's Method**: Global thresholding that automatically calculates an optimal threshold by maximizing the variance between foreground and background pixel classes. Works best when the image histogram has two distinct peaks.\n",
        "\n",
        "- **Adaptive Thresholding**: Calculates thresholds locally using a sliding window (block_size=35). For each pixel, the threshold is computed based on the mean or gaussian-weighted mean of its neighborhood. Particularly effective for images with varying lighting conditions or intensity gradients.\n",
        "\n",
        "- **Yen's Method**: The Yen algorithm finds the optimal threshold by minimizing the log of the product of foreground and background variances. It often performs better than Otsu for low contrast images.\n"
      ]
    },
    {
      "cell_type": "code",
      "execution_count": null,
      "id": "eb63d825",
      "metadata": {
        "id": "eb63d825"
      },
      "outputs": [],
      "source": [
        "# 1. Global Otsu thresholding (already shown above)\n",
        "otsu_threshold = filters.threshold_otsu(median_filtered)\n",
        "otsu_binary = median_filtered > otsu_threshold\n",
        "\n",
        "# 2. Adaptive thresholding\n",
        "def adaptive_threshold_3d(volume, block_size=35, offset=10):\n",
        "    binary = np.zeros_like(volume, dtype=bool)\n",
        "    for i in range(volume.shape[0]):\n",
        "        # Calculate local threshold for each slice\n",
        "        local_thresh = filters.threshold_local(\n",
        "            volume[i],\n",
        "            block_size=block_size,\n",
        "            offset=offset,\n",
        "            method='gaussian'\n",
        "        )\n",
        "        binary[i] = volume[i] > local_thresh\n",
        "    return binary\n",
        "\n",
        "print(\"Applying Adaptive thresholding...\")\n",
        "start_time = time.time()\n",
        "adaptive_binary = adaptive_threshold_3d(median_filtered)\n",
        "print(f\"Adaptive thresholding processing time: {time.time() - start_time:.2f} seconds\")\n",
        "\n",
        "# 3. Yen's thresholding method\n",
        "yen_threshold = filters.threshold_yen(median_filtered)\n",
        "yen_binary = median_filtered > yen_threshold\n",
        "\n",
        "# Display thresholding results\n",
        "plot_2d_slices(otsu_binary.astype(np.uint8) * 255, \"Otsu Thresholding Result\")\n",
        "plt.show()\n",
        "\n",
        "plot_2d_slices(adaptive_binary.astype(np.uint8) * 255, \"Adaptive Thresholding Result\")\n",
        "plt.show()\n",
        "\n",
        "plot_2d_slices(yen_binary.astype(np.uint8) * 255, \"Yen Thresholding Result\")\n",
        "plt.show()\n",
        "\n",
        "# Compare thresholding methods\n",
        "print(\"\\nThresholding Method Comparison:\")\n",
        "print(\"-\" * 50)\n",
        "print(f\"{'Method':<20} {'Threshold Value':<15} {'Object Fraction':<15}\")\n",
        "print(\"-\" * 50)\n",
        "print(f\"{'Otsu':<20} {otsu_threshold:<15.2f} {np.mean(otsu_binary):<15.3f}\")\n",
        "print(f\"{'Adaptive':<20} {'Local':<15} {np.mean(adaptive_binary):<15.3f}\")\n",
        "print(f\"{'Yen':<20} {yen_threshold:<15.2f} {np.mean(yen_binary):<15.3f}\")"
      ]
    },
    {
      "cell_type": "markdown",
      "id": "574fe146",
      "metadata": {
        "id": "574fe146"
      },
      "source": [
        "## Binary Operations\n",
        "Now we'll clean up the binary image using morphological operations"
      ]
    },
    {
      "cell_type": "code",
      "execution_count": null,
      "id": "aa025125",
      "metadata": {
        "id": "aa025125"
      },
      "outputs": [],
      "source": [
        "# Remove small objects\n",
        "binary_image=otsu_binary\n",
        "min_size = 100  # Minimum size of objects to keep\n",
        "cleaned = morphology.remove_small_objects(binary_image, min_size=min_size)\n",
        "\n",
        "# Fill holes\n",
        "filled = ndimage.binary_fill_holes(cleaned)\n",
        "\n",
        "# Display cleaned and filled result\n",
        "plot_2d_slices(otsu_binary.astype(np.uint8) * 255, \"Initial Binary Volume\")\n",
        "plt.show()\n",
        "# Display cleaned and filled result\n",
        "plot_2d_slices(filled.astype(np.uint8) * 255, \"Cleaned and Filled Binary Volume\")\n",
        "plt.show()"
      ]
    },
    {
      "cell_type": "markdown",
      "id": "66725279",
      "metadata": {
        "editable": true,
        "tags": [],
        "id": "66725279"
      },
      "source": [
        "## 3D visualization\n",
        "The binary volumes can be visulized using plotly for better understanding of the 3D structures and connectivity"
      ]
    },
    {
      "cell_type": "code",
      "execution_count": null,
      "id": "9aa33247",
      "metadata": {
        "editable": true,
        "tags": [],
        "id": "9aa33247"
      },
      "outputs": [],
      "source": [
        "import plotly.graph_objects as go     # For interactive 3D volume visualization\n",
        "def show_cube(volume):\n",
        "    # Get dimensions\n",
        "    nx, ny, nz = volume.shape\n",
        "\n",
        "    # Convert boolean data to float if necessary\n",
        "    if volume.dtype == bool:\n",
        "        volume = volume.astype(float)\n",
        "\n",
        "    # Get global min and max for consistent color scaling\n",
        "    vmin = float(volume.min())\n",
        "    vmax = float(volume.max())\n",
        "\n",
        "    # Create coordinate arrays\n",
        "    x = np.arange(nx)\n",
        "    y = np.arange(ny)\n",
        "    z = np.arange(nz)\n",
        "\n",
        "    # Create meshgrids for each plane orientation\n",
        "    X_xy, Y_xy = np.meshgrid(x, y)\n",
        "    X_xz, Z_xz = np.meshgrid(x, z)\n",
        "    Y_yz, Z_yz = np.meshgrid(y, z)\n",
        "\n",
        "    # Create figure\n",
        "    fig = go.Figure()\n",
        "\n",
        "    # Front face (y = 0)\n",
        "    fig.add_trace(go.Surface(\n",
        "        x=X_xz,\n",
        "        y=np.zeros_like(X_xz),\n",
        "        z=Z_xz,\n",
        "        surfacecolor=volume[:, 0, :].T.astype(float),\n",
        "        colorscale='Greys_r',\n",
        "        name='Front',\n",
        "        showscale=True,\n",
        "        cmin=vmin,\n",
        "        cmax=vmax\n",
        "    ))\n",
        "\n",
        "    # Back face (y = ny-1)\n",
        "    fig.add_trace(go.Surface(\n",
        "        x=X_xz,\n",
        "        y=np.full_like(X_xz, ny-1),\n",
        "        z=Z_xz,\n",
        "        surfacecolor=volume[:, -1, :].T.astype(float),\n",
        "        colorscale='Greys_r',\n",
        "        name='Back',\n",
        "        showscale=False,\n",
        "        cmin=vmin,\n",
        "        cmax=vmax\n",
        "    ))\n",
        "\n",
        "    # Left face (x = 0)\n",
        "    fig.add_trace(go.Surface(\n",
        "        x=np.zeros_like(Y_yz),\n",
        "        y=Y_yz,\n",
        "        z=Z_yz,\n",
        "        surfacecolor=volume[0, :, :].T.astype(float),\n",
        "        colorscale='Greys_r',\n",
        "        name='Left',\n",
        "        showscale=False,\n",
        "        cmin=vmin,\n",
        "        cmax=vmax\n",
        "    ))\n",
        "\n",
        "    # Right face (x = nx-1)\n",
        "    fig.add_trace(go.Surface(\n",
        "        x=np.full_like(Y_yz, nx-1),\n",
        "        y=Y_yz,\n",
        "        z=Z_yz,\n",
        "        surfacecolor=volume[-1, :, :].T.astype(float),\n",
        "        colorscale='Greys_r',\n",
        "        name='Right',\n",
        "        showscale=False,\n",
        "        cmin=vmin,\n",
        "        cmax=vmax\n",
        "    ))\n",
        "\n",
        "    # Bottom face (z = 0)\n",
        "    fig.add_trace(go.Surface(\n",
        "        x=X_xy.T,\n",
        "        y=Y_xy.T,\n",
        "        z=np.zeros_like(X_xy.T),\n",
        "        surfacecolor=volume[:, :, 0].astype(float),\n",
        "        colorscale='Greys_r',\n",
        "        name='Bottom',\n",
        "        showscale=False,\n",
        "        cmin=vmin,\n",
        "        cmax=vmax\n",
        "    ))\n",
        "\n",
        "    # Top face (z = nz-1)\n",
        "    fig.add_trace(go.Surface(\n",
        "        x=X_xy.T,\n",
        "        y=Y_xy.T,\n",
        "        z=np.full_like(X_xy.T, nz-1),\n",
        "        surfacecolor=volume[:, :, -1].astype(float),\n",
        "        colorscale='Greys_r',\n",
        "        name='Top',\n",
        "        showscale=False,\n",
        "        cmin=vmin,\n",
        "        cmax=vmax\n",
        "    ))\n",
        "\n",
        "    # Update layout with better default view\n",
        "    fig.update_layout(\n",
        "        title='3D Volume Visualization (All 6 Faces)',\n",
        "        scene=dict(\n",
        "            xaxis_title='X (voxels)',\n",
        "            yaxis_title='Y (voxels)',\n",
        "            zaxis_title='Z (voxels)',\n",
        "            aspectmode='data',\n",
        "            camera=dict(\n",
        "                eye=dict(x=2, y=2, z=1.5),\n",
        "                up=dict(x=0, y=0, z=1)\n",
        "            )\n",
        "        ),\n",
        "        width=800,\n",
        "        height=800\n",
        "    )\n",
        "\n",
        "    return fig\n",
        "\n",
        "# Create and display the visualization\n",
        "print(\"\\nCreating visualization...\")\n",
        "fig = show_cube(filled)\n",
        "fig.show()\n",
        "\n",
        "print(\"\\nVisualization controls:\")\n",
        "print(\"- Rotate: Click and drag\")\n",
        "print(\"- Zoom: Scroll wheel\")\n",
        "print(\"- Pan: Right-click and drag\")\n",
        "\n"
      ]
    },
    {
      "cell_type": "markdown",
      "id": "49adaa55",
      "metadata": {
        "id": "49adaa55"
      },
      "source": [
        "## Save Results\n",
        "Save our processed binary image for future use."
      ]
    },
    {
      "cell_type": "code",
      "execution_count": null,
      "id": "8ff3e16a",
      "metadata": {
        "id": "8ff3e16a"
      },
      "outputs": [],
      "source": [
        "# Save binary result\n",
        "tifffile.imwrite('binary_result.tif', filled.astype(np.uint8) * 255)"
      ]
    }
  ],
  "metadata": {
    "jupytext": {
      "cell_metadata_filter": "-all",
      "main_language": "python",
      "notebook_metadata_filter": "-all"
    },
    "kernelspec": {
      "display_name": "Python 3 (ipykernel)",
      "language": "python",
      "name": "python3"
    },
    "language_info": {
      "codemirror_mode": {
        "name": "ipython",
        "version": 3
      },
      "file_extension": ".py",
      "mimetype": "text/x-python",
      "name": "python",
      "nbconvert_exporter": "python",
      "pygments_lexer": "ipython3",
      "version": "3.9.12"
    },
    "colab": {
      "provenance": []
    }
  },
  "nbformat": 4,
  "nbformat_minor": 5
}